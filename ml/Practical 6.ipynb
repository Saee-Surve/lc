{
 "cells": [
  {
   "cell_type": "code",
   "execution_count": 1,
   "metadata": {},
   "outputs": [],
   "source": [
    "# qmaze.py — short Q-learning maze example\n",
    "import numpy as np\n",
    "import random"
   ]
  },
  {
   "cell_type": "code",
   "execution_count": 2,
   "id": "697a3e78",
   "metadata": {},
   "outputs": [],
   "source": [
    "# Maze: 0 free, 1 wall, S=start(2), G=goal(3)\n",
    "maze = np.array([\n",
    "    [2,0,0,1,0],\n",
    "    [1,0,1,0,0],\n",
    "    [0,0,0,0,1],\n",
    "    [0,1,0,1,0],\n",
    "    [0,0,0,0,3]\n",
    "])\n",
    "rows,cols = maze.shape\n",
    "start = tuple(np.argwhere(maze==2)[0])\n",
    "goal  = tuple(np.argwhere(maze==3)[0])\n",
    "\n",
    "actions = [( -1,0),(1,0),(0,-1),(0,1)]  # up,down,left,right\n",
    "n_states = rows*cols\n",
    "n_actions = len(actions)"
   ]
  },
  {
   "cell_type": "code",
   "execution_count": 3,
   "metadata": {},
   "outputs": [],
   "source": [
    "def to_idx(pos): return pos[0]*cols + pos[1]\n",
    "def valid(pos):\n",
    "    r,c = pos\n",
    "    return 0<=r<rows and 0<=c<cols and maze[r,c]!=1"
   ]
  },
  {
   "cell_type": "code",
   "execution_count": 4,
   "id": "b534c569",
   "metadata": {},
   "outputs": [],
   "source": [
    "# Q-table\n",
    "Q = np.zeros((n_states, n_actions))\n",
    "alpha = 0.6\n",
    "gamma = 0.9\n",
    "epsilon = 0.2\n",
    "\n",
    "def step(pos, a):\n",
    "    dr,dc = actions[a]\n",
    "    new = (pos[0]+dr, pos[1]+dc)\n",
    "    if not valid(new): new = pos\n",
    "    reward = 1.0 if new==goal else -0.01\n",
    "    done = new==goal\n",
    "    return new, reward, done"
   ]
  },
  {
   "cell_type": "code",
   "execution_count": 5,
   "id": "059f0ed0",
   "metadata": {},
   "outputs": [],
   "source": [
    "# Training\n",
    "episodes = 2000\n",
    "for ep in range(episodes):\n",
    "    pos = start\n",
    "    for _ in range(200):\n",
    "        s = to_idx(pos)\n",
    "        if random.random() < epsilon:\n",
    "            a = random.randrange(n_actions)\n",
    "        else:\n",
    "            a = int(np.argmax(Q[s]))\n",
    "        new,pos_reward,done = step(pos,a)\n",
    "        s2 = to_idx(new)\n",
    "        Q[s,a] += alpha*(pos_reward + gamma*np.max(Q[s2]) - Q[s,a])\n",
    "        pos = new\n",
    "        if done: break"
   ]
  },
  {
   "cell_type": "code",
   "execution_count": 6,
   "id": "f18545df",
   "metadata": {},
   "outputs": [],
   "source": [
    "# Derive policy and show one greedy path\n",
    "pos = start\n",
    "path = [pos]\n",
    "for _ in range(200):\n",
    "    s = to_idx(pos)\n",
    "    a = int(np.argmax(Q[s]))\n",
    "    pos,_,done = step(pos,a)\n",
    "    path.append(pos)\n",
    "    if done: break"
   ]
  },
  {
   "cell_type": "code",
   "execution_count": 7,
   "id": "4ddbd52b",
   "metadata": {},
   "outputs": [
    {
     "name": "stdout",
     "output_type": "stream",
     "text": [
      "Maze (S=start, G=goal, 1=wall):\n",
      "[[2 0 0 1 0]\n",
      " [1 0 1 0 0]\n",
      " [0 0 0 0 1]\n",
      " [0 1 0 1 0]\n",
      " [0 0 0 0 3]]\n",
      "\n",
      "Learned path (row,col):\n",
      "[(0, 0), (0, 1), (1, 1), (2, 1), (2, 2), (3, 2), (4, 2), (4, 3), (4, 4)]\n",
      "Reached goal in 8 steps\n"
     ]
    }
   ],
   "source": [
    "print(\"Maze (S=start, G=goal, 1=wall):\")\n",
    "print(maze)\n",
    "print(\"\\nLearned path (row,col):\")\n",
    "print(path)\n",
    "if path[-1]==goal:\n",
    "    print(\"Reached goal in\", len(path)-1, \"steps\")\n",
    "else:\n",
    "    print(\"Did not reach goal — try increasing episodes or tuning params.\")"
   ]
  },
  {
   "cell_type": "code",
   "execution_count": null,
   "id": "bc5a6ba8",
   "metadata": {},
   "outputs": [],
   "source": []
  }
 ],
 "metadata": {
  "kernelspec": {
   "display_name": "base",
   "language": "python",
   "name": "python3"
  },
  "language_info": {
   "codemirror_mode": {
    "name": "ipython",
    "version": 3
   },
   "file_extension": ".py",
   "mimetype": "text/x-python",
   "name": "python",
   "nbconvert_exporter": "python",
   "pygments_lexer": "ipython3",
   "version": "3.11.7"
  }
 },
 "nbformat": 4,
 "nbformat_minor": 5
}
